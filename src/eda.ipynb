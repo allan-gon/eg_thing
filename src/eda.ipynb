{
 "cells": [
  {
   "cell_type": "markdown",
   "id": "260affc0-6d3b-4b0c-8115-2f6f71d263bd",
   "metadata": {},
   "source": [
    "# Imports"
   ]
  },
  {
   "cell_type": "code",
   "execution_count": 1,
   "id": "db76b9de-5269-4226-bbc3-4e59d21c61f5",
   "metadata": {},
   "outputs": [],
   "source": [
    "import pandas as pd\n",
    "import numpy as np\n",
    "import matplotlib.pyplot as plt\n",
    "import statsmodels.api as sm"
   ]
  },
  {
   "cell_type": "markdown",
   "id": "6ad4cc4f-6f56-46db-a434-ca64d641fb10",
   "metadata": {},
   "source": [
    "# Load Data"
   ]
  },
  {
   "cell_type": "code",
   "execution_count": 2,
   "id": "a03d2add-b03f-4bc0-9882-ec6b239ef1cf",
   "metadata": {},
   "outputs": [],
   "source": [
    "df = pd.read_csv(\"../data/PostTypeAnalysisDateset.csv\", parse_dates=[\"post_date\"])"
   ]
  },
  {
   "cell_type": "markdown",
   "id": "741c956b-8363-4901-b3d1-0f295ce40821",
   "metadata": {},
   "source": [
    "# Basic Inspection"
   ]
  },
  {
   "cell_type": "code",
   "execution_count": 3,
   "id": "3e186a51-dc10-4fb7-963f-ead53353fd35",
   "metadata": {},
   "outputs": [
    {
     "data": {
      "text/html": [
       "<div>\n",
       "<style scoped>\n",
       "    .dataframe tbody tr th:only-of-type {\n",
       "        vertical-align: middle;\n",
       "    }\n",
       "\n",
       "    .dataframe tbody tr th {\n",
       "        vertical-align: top;\n",
       "    }\n",
       "\n",
       "    .dataframe thead th {\n",
       "        text-align: right;\n",
       "    }\n",
       "</style>\n",
       "<table border=\"1\" class=\"dataframe\">\n",
       "  <thead>\n",
       "    <tr style=\"text-align: right;\">\n",
       "      <th></th>\n",
       "      <th>post_date</th>\n",
       "      <th>entity_id</th>\n",
       "      <th>followers</th>\n",
       "      <th>is_picture</th>\n",
       "      <th>is_video</th>\n",
       "      <th>video_duration_secs</th>\n",
       "      <th>impressions</th>\n",
       "      <th>likes</th>\n",
       "      <th>shares</th>\n",
       "      <th>replies</th>\n",
       "      <th>engagement_rate</th>\n",
       "    </tr>\n",
       "  </thead>\n",
       "  <tbody>\n",
       "    <tr>\n",
       "      <th>0</th>\n",
       "      <td>2020-01-02 17:10:00</td>\n",
       "      <td>7AD030340F434EECA5B4FC28034E1113</td>\n",
       "      <td>242458.0</td>\n",
       "      <td>False</td>\n",
       "      <td>False</td>\n",
       "      <td>NaN</td>\n",
       "      <td>36023.36585</td>\n",
       "      <td>123</td>\n",
       "      <td>3</td>\n",
       "      <td>42</td>\n",
       "      <td>0.000693</td>\n",
       "    </tr>\n",
       "    <tr>\n",
       "      <th>1</th>\n",
       "      <td>2020-01-02 17:46:00</td>\n",
       "      <td>7AD030340F434EECA5B4FC28034E1113</td>\n",
       "      <td>242458.0</td>\n",
       "      <td>False</td>\n",
       "      <td>False</td>\n",
       "      <td>NaN</td>\n",
       "      <td>23402.68323</td>\n",
       "      <td>4</td>\n",
       "      <td>0</td>\n",
       "      <td>0</td>\n",
       "      <td>0.000017</td>\n",
       "    </tr>\n",
       "    <tr>\n",
       "      <th>2</th>\n",
       "      <td>2020-10-09 16:06:00</td>\n",
       "      <td>4AAFEFB838974FDCA41932C4D32FD52A</td>\n",
       "      <td>2102820.0</td>\n",
       "      <td>False</td>\n",
       "      <td>False</td>\n",
       "      <td>NaN</td>\n",
       "      <td>204639.92030</td>\n",
       "      <td>24</td>\n",
       "      <td>1</td>\n",
       "      <td>2</td>\n",
       "      <td>0.000013</td>\n",
       "    </tr>\n",
       "    <tr>\n",
       "      <th>3</th>\n",
       "      <td>2020-10-09 16:08:00</td>\n",
       "      <td>4AAFEFB838974FDCA41932C4D32FD52A</td>\n",
       "      <td>2102820.0</td>\n",
       "      <td>False</td>\n",
       "      <td>False</td>\n",
       "      <td>NaN</td>\n",
       "      <td>208872.73630</td>\n",
       "      <td>91</td>\n",
       "      <td>1</td>\n",
       "      <td>2</td>\n",
       "      <td>0.000045</td>\n",
       "    </tr>\n",
       "    <tr>\n",
       "      <th>4</th>\n",
       "      <td>2020-10-10 13:00:00</td>\n",
       "      <td>4A3372EBDC9C484AA8503A96CD14B858</td>\n",
       "      <td>1023570.0</td>\n",
       "      <td>False</td>\n",
       "      <td>False</td>\n",
       "      <td>NaN</td>\n",
       "      <td>136020.57130</td>\n",
       "      <td>465</td>\n",
       "      <td>9</td>\n",
       "      <td>2</td>\n",
       "      <td>0.000465</td>\n",
       "    </tr>\n",
       "  </tbody>\n",
       "</table>\n",
       "</div>"
      ],
      "text/plain": [
       "            post_date                         entity_id  followers  \\\n",
       "0 2020-01-02 17:10:00  7AD030340F434EECA5B4FC28034E1113   242458.0   \n",
       "1 2020-01-02 17:46:00  7AD030340F434EECA5B4FC28034E1113   242458.0   \n",
       "2 2020-10-09 16:06:00  4AAFEFB838974FDCA41932C4D32FD52A  2102820.0   \n",
       "3 2020-10-09 16:08:00  4AAFEFB838974FDCA41932C4D32FD52A  2102820.0   \n",
       "4 2020-10-10 13:00:00  4A3372EBDC9C484AA8503A96CD14B858  1023570.0   \n",
       "\n",
       "   is_picture  is_video  video_duration_secs   impressions  likes  shares  \\\n",
       "0       False     False                  NaN   36023.36585    123       3   \n",
       "1       False     False                  NaN   23402.68323      4       0   \n",
       "2       False     False                  NaN  204639.92030     24       1   \n",
       "3       False     False                  NaN  208872.73630     91       1   \n",
       "4       False     False                  NaN  136020.57130    465       9   \n",
       "\n",
       "   replies  engagement_rate  \n",
       "0       42         0.000693  \n",
       "1        0         0.000017  \n",
       "2        2         0.000013  \n",
       "3        2         0.000045  \n",
       "4        2         0.000465  "
      ]
     },
     "execution_count": 3,
     "metadata": {},
     "output_type": "execute_result"
    }
   ],
   "source": [
    "df.head()"
   ]
  },
  {
   "cell_type": "code",
   "execution_count": 4,
   "id": "e59dc91b-2e09-42b1-b677-bd21c658db37",
   "metadata": {},
   "outputs": [
    {
     "name": "stdout",
     "output_type": "stream",
     "text": [
      "<class 'pandas.core.frame.DataFrame'>\n",
      "RangeIndex: 15141 entries, 0 to 15140\n",
      "Data columns (total 11 columns):\n",
      " #   Column               Non-Null Count  Dtype         \n",
      "---  ------               --------------  -----         \n",
      " 0   post_date            15141 non-null  datetime64[ns]\n",
      " 1   entity_id            15141 non-null  object        \n",
      " 2   followers            15127 non-null  float64       \n",
      " 3   is_picture           15141 non-null  bool          \n",
      " 4   is_video             15141 non-null  bool          \n",
      " 5   video_duration_secs  1989 non-null   float64       \n",
      " 6   impressions          15127 non-null  float64       \n",
      " 7   likes                15141 non-null  int64         \n",
      " 8   shares               15141 non-null  int64         \n",
      " 9   replies              15141 non-null  int64         \n",
      " 10  engagement_rate      15141 non-null  float64       \n",
      "dtypes: bool(2), datetime64[ns](1), float64(4), int64(3), object(1)\n",
      "memory usage: 1.1+ MB\n"
     ]
    }
   ],
   "source": [
    "df.info()"
   ]
  },
  {
   "cell_type": "markdown",
   "id": "047ab420-0bca-4e09-9998-3c0852438f49",
   "metadata": {},
   "source": [
    "### There are some nulls"
   ]
  },
  {
   "cell_type": "code",
   "execution_count": 5,
   "id": "9b47879d-4931-4e80-9e66-5c4d1b4f546f",
   "metadata": {},
   "outputs": [
    {
     "data": {
      "text/plain": [
       "post_date                  0\n",
       "entity_id                  0\n",
       "followers                 14\n",
       "is_picture                 0\n",
       "is_video                   0\n",
       "video_duration_secs    13152\n",
       "impressions               14\n",
       "likes                      0\n",
       "shares                     0\n",
       "replies                    0\n",
       "engagement_rate            0\n",
       "dtype: int64"
      ]
     },
     "execution_count": 5,
     "metadata": {},
     "output_type": "execute_result"
    }
   ],
   "source": [
    "df.isnull().sum()"
   ]
  },
  {
   "cell_type": "markdown",
   "id": "f5b3a696-0303-4c2e-ae63-42c884137b49",
   "metadata": {},
   "source": [
    "### Specifics above"
   ]
  },
  {
   "cell_type": "markdown",
   "id": "4bdc67f8-f61c-4839-8385-5fdaa54ebd7e",
   "metadata": {},
   "source": [
    "# Deep Dive into `post_date`"
   ]
  },
  {
   "cell_type": "code",
   "execution_count": 6,
   "id": "55ad810a-ef14-469e-bf6d-958ee1db9a4b",
   "metadata": {},
   "outputs": [
    {
     "name": "stdout",
     "output_type": "stream",
     "text": [
      "2020-01-01 05:01:00 2020-12-16 04:02:00\n"
     ]
    }
   ],
   "source": [
    "lastest_date, earliest_date = max(df[\"post_date\"]), min(df[\"post_date\"])\n",
    "print(earliest_date, lastest_date)"
   ]
  },
  {
   "cell_type": "code",
   "execution_count": 7,
   "id": "a35cac69-28c4-4f05-b08f-f4470e890ab4",
   "metadata": {},
   "outputs": [
    {
     "data": {
      "text/plain": [
       "(0, 11)"
      ]
     },
     "execution_count": 7,
     "metadata": {},
     "output_type": "execute_result"
    }
   ],
   "source": [
    "df[df[\"post_date\"].dt.second != 0].shape # confirming that seconds aren't accounted for"
   ]
  },
  {
   "cell_type": "code",
   "execution_count": 8,
   "id": "f9af14b8-dcf9-4fc1-ad7e-aee37d6e6d49",
   "metadata": {},
   "outputs": [
    {
     "data": {
      "text/plain": [
       "0"
      ]
     },
     "execution_count": 8,
     "metadata": {},
     "output_type": "execute_result"
    }
   ],
   "source": [
    "df[\"post_date\"].isnull().sum()"
   ]
  },
  {
   "cell_type": "markdown",
   "id": "dd1c7231-63af-4b97-aaf3-15a26d3f713f",
   "metadata": {},
   "source": [
    "### Posts in this dataset are from the year 2020, January 1st to December 16th\n",
    "### Pretty granular, precision to the minute\n",
    "### No NaN times"
   ]
  },
  {
   "cell_type": "markdown",
   "id": "256d4c2c-ff73-46ab-aec9-fa27afefad14",
   "metadata": {},
   "source": [
    "# Deep Dive into `entity_id`"
   ]
  },
  {
   "cell_type": "code",
   "execution_count": 9,
   "id": "d007f53a-51fc-4eb0-a5b4-4ca31ef5e4d1",
   "metadata": {},
   "outputs": [
    {
     "data": {
      "text/plain": [
       "5"
      ]
     },
     "execution_count": 9,
     "metadata": {},
     "output_type": "execute_result"
    }
   ],
   "source": [
    "df[\"entity_id\"].nunique() # there are only 5 accounts this dataset covers"
   ]
  },
  {
   "cell_type": "code",
   "execution_count": 10,
   "id": "fd695482-85b6-4c6f-b8f7-d852a0e08480",
   "metadata": {},
   "outputs": [
    {
     "data": {
      "text/plain": [
       "array(['7AD030340F434EECA5B4FC28034E1113',\n",
       "       '4AAFEFB838974FDCA41932C4D32FD52A',\n",
       "       '4A3372EBDC9C484AA8503A96CD14B858',\n",
       "       '734CC11FE5EC4290A623F16482B387FF',\n",
       "       '40B1ADC3F6F54143BACCB3D8FB000756'], dtype=object)"
      ]
     },
     "execution_count": 10,
     "metadata": {},
     "output_type": "execute_result"
    }
   ],
   "source": [
    "df[\"entity_id\"].unique() # confirming the hash means nothing to me"
   ]
  },
  {
   "cell_type": "code",
   "execution_count": 11,
   "id": "7551c314-bb22-4591-a1c6-1bd3ec947bf9",
   "metadata": {},
   "outputs": [
    {
     "data": {
      "text/plain": [
       "4A3372EBDC9C484AA8503A96CD14B858    8228\n",
       "4AAFEFB838974FDCA41932C4D32FD52A    2550\n",
       "7AD030340F434EECA5B4FC28034E1113    2317\n",
       "734CC11FE5EC4290A623F16482B387FF    1121\n",
       "40B1ADC3F6F54143BACCB3D8FB000756     925\n",
       "Name: entity_id, dtype: int64"
      ]
     },
     "execution_count": 11,
     "metadata": {},
     "output_type": "execute_result"
    }
   ],
   "source": [
    "df[\"entity_id\"].value_counts() # check distribution of posts by account"
   ]
  },
  {
   "cell_type": "code",
   "execution_count": 12,
   "id": "57081c6f-e1eb-41f5-b29d-20862a547a56",
   "metadata": {},
   "outputs": [
    {
     "data": {
      "text/plain": [
       "0"
      ]
     },
     "execution_count": 12,
     "metadata": {},
     "output_type": "execute_result"
    }
   ],
   "source": [
    "df[\"entity_id\"].isnull().sum()"
   ]
  },
  {
   "cell_type": "markdown",
   "id": "033e58f1-a957-4a9d-82d7-775ec7016ab9",
   "metadata": {},
   "source": [
    "### There are only 5 accounts and account `4A3372EBDC9C484AA8503A96CD14B858` has by far the most posts. The others are relativley even\n",
    "### No NaNs in entit_ id"
   ]
  },
  {
   "cell_type": "markdown",
   "id": "becb9a57-984c-4564-9a79-dcc8fcf325db",
   "metadata": {},
   "source": [
    "# Deep Dive into `followers`"
   ]
  },
  {
   "cell_type": "code",
   "execution_count": 13,
   "id": "b44752a9-0706-4bcb-b698-d7a819dc9222",
   "metadata": {},
   "outputs": [
    {
     "data": {
      "text/plain": [
       "count    1.512700e+04\n",
       "mean     1.292527e+06\n",
       "std      1.091380e+06\n",
       "min      2.420370e+05\n",
       "25%      9.004100e+05\n",
       "50%      9.583550e+05\n",
       "75%      1.065397e+06\n",
       "max      5.149433e+06\n",
       "Name: followers, dtype: float64"
      ]
     },
     "execution_count": 13,
     "metadata": {},
     "output_type": "execute_result"
    }
   ],
   "source": [
    "df[\"followers\"].describe() # some descriptive stats"
   ]
  },
  {
   "cell_type": "code",
   "execution_count": 14,
   "id": "efbfdc66-d37e-4999-998c-88721ce31474",
   "metadata": {},
   "outputs": [
    {
     "data": {
      "image/png": "[encoded data removed]",
      "text/plain": [
       "<Figure size 640x480 with 1 Axes>"
      ]
     },
     "metadata": {},
     "output_type": "display_data"
    }
   ],
   "source": [
    "follow_bbplot = df.boxplot(\"followers\")\n",
    "follow_bbplot.set_ylabel(\"Followers (in millions)\")\n",
    "plt.show()"
   ]
  },
  {
   "cell_type": "markdown",
   "id": "7754d516-7e26-4d0d-8a9c-818b206c9940",
   "metadata": {},
   "source": [
    "## Look at how `followers` interacts with `entity_id`"
   ]
  },
  {
   "cell_type": "markdown",
   "id": "dd42ca42-aeb1-47b3-b8b8-ffdcbda4b448",
   "metadata": {},
   "source": [
    "Is there a difference in followers by account?"
   ]
  },
  {
   "cell_type": "code",
   "execution_count": 15,
   "id": "56e6447c-40ab-487d-b56a-b7a74348e42f",
   "metadata": {},
   "outputs": [
    {
     "data": {
      "image/png": "[encoded data removed]",
      "text/plain": [
       "<Figure size 640x480 with 1 Axes>"
      ]
     },
     "metadata": {},
     "output_type": "display_data"
    }
   ],
   "source": [
    "followers_by_account = []\n",
    "for account in df[\"entity_id\"].unique():\n",
    "    temp = df[df[\"entity_id\"] == account].dropna(subset=[\"followers\"]).copy()\n",
    "    followers_by_account.append(temp[\"followers\"])\n",
    "plt.boxplot(followers_by_account, labels=range(0, 5))\n",
    "plt.show()"
   ]
  },
  {
   "cell_type": "markdown",
   "id": "c4357a40-d23a-460d-b74f-f8e498819a2b",
   "metadata": {},
   "source": [
    "### The above graph is in milions, also the x value corresponds to index in df[\"entity_id\"].unique()\n",
    "### There's a pretty big difference in followers by account"
   ]
  },
  {
   "cell_type": "markdown",
   "id": "e2d134e1-f62b-4bb0-91b0-d969ce834f75",
   "metadata": {},
   "source": [
    "## Look at how `followers` by `entity_id` change over time"
   ]
  },
  {
   "cell_type": "code",
   "execution_count": 16,
   "id": "0457a6c6-b74a-4f89-9a46-c4a7b860dbfe",
   "metadata": {},
   "outputs": [],
   "source": [
    "group_on_acc = []\n",
    "for name in df[\"entity_id\"].unique():\n",
    "    group_on_acc.append(\n",
    "        df[df[\"entity_id\"] == name].dropna(\n",
    "            subset=[\"followers\"]\n",
    "        ).sort_values(axis=0, by=\"post_date\").reset_index(\n",
    "        ).copy())"
   ]
  },
  {
   "cell_type": "code",
   "execution_count": 17,
   "id": "8431d51c-02d5-4633-90a9-e045665567f6",
   "metadata": {},
   "outputs": [
    {
     "data": {
      "image/png": "[encoded data removed]",
      "text/plain": [
       "<Figure size 640x480 with 6 Axes>"
      ]
     },
     "metadata": {},
     "output_type": "display_data"
    }
   ],
   "source": [
    "fig, ax = plt.subplots(3, 2)\n",
    "row, col = 0, 0\n",
    "for idx in range(len(group_on_acc)):\n",
    "    if (idx % 2) == 0:\n",
    "        col = 1\n",
    "    else:\n",
    "        col = 0\n",
    "        row += 1\n",
    "    ax[row, col].plot(group_on_acc[idx][\"post_date\"], group_on_acc[idx][\"followers\"])\n",
    "    ax[row, col].set_title(group_on_acc[idx][\"entity_id\"][0])\n",
    "    # row += 1\n",
    "plt.show()\n",
    "\n",
    "# df.groupby(\"entity_id\").plot(\"post_date\", \"followers\", title=df[\"entity_id\"][0])\n",
    "# plt.show()"
   ]
  },
  {
   "cell_type": "markdown",
   "id": "34627b18-b79e-42aa-b0b3-2dbe2e07eb9d",
   "metadata": {},
   "source": [
    "### All except the last account seem to follow a general upward trend. May not want to do what last account does as it's quite volatile"
   ]
  },
  {
   "cell_type": "markdown",
   "id": "047d5172-c30f-4482-928d-3ff753cce886",
   "metadata": {},
   "source": [
    "## Look at growth rate by account over time"
   ]
  },
  {
   "cell_type": "code",
   "execution_count": 18,
   "id": "a051bcc2-8abd-4bd1-a35c-2f7f6f73ea3c",
   "metadata": {},
   "outputs": [
    {
     "data": {
      "image/png": "[encoded data removed]",
      "text/plain": [
       "<Figure size 640x480 with 1 Axes>"
      ]
     },
     "metadata": {},
     "output_type": "display_data"
    }
   ],
   "source": [
    "# for no good reason, i cant make changes to a groupby fo growth rate by acc is not possible to do programatically\n",
    "for frame in group_on_acc:\n",
    "    frame[\"growth_rate\"] = frame[\"followers\"].diff() / frame[\"followers\"]\n",
    "    plt.plot(frame[\"post_date\"], frame[\"growth_rate\"], label=frame[\"entity_id\"][0])\n",
    "plt.legend()\n",
    "plt.show()"
   ]
  },
  {
   "cell_type": "code",
   "execution_count": null,
   "id": "029b66d6-c843-4d63-936b-dca693c67261",
   "metadata": {},
   "outputs": [],
   "source": []
  },
  {
   "cell_type": "markdown",
   "id": "6b5f27b7-c8ea-4c52-8acd-abac1f2b2d8c",
   "metadata": {},
   "source": [
    "# Look into NaNs more\n",
    "- for 14 posts, followers and impressions are NaN so probably drop them\n",
    "- a-lot of video duration is NaN, probably fine I reckon it's because video = False"
   ]
  },
  {
   "cell_type": "code",
   "execution_count": 19,
   "id": "5210a917-d567-4864-8003-0e1b34d97ec0",
   "metadata": {},
   "outputs": [
    {
     "data": {
      "text/plain": [
       "((0, 11), (8464, 11), (1989, 11), (4688, 11), (15141, 11), True)"
      ]
     },
     "execution_count": 19,
     "metadata": {},
     "output_type": "execute_result"
    }
   ],
   "source": [
    "# df[df.is_video == False].shape # yeah that's why\n",
    "df[df.is_picture & df.is_video].shape, df[~df.is_picture & ~df.is_video].shape, df[~df.is_picture & df.is_video].shape, df[df.is_picture & ~df.is_video].shape, df.shape, 8464 + 1989 + 4688 == 15141"
   ]
  },
  {
   "cell_type": "markdown",
   "id": "accfce99-1e28-4e89-a7d1-88c6ac549660",
   "metadata": {},
   "source": [
    "# How do videos do vs non-videos?"
   ]
  },
  {
   "cell_type": "code",
   "execution_count": 20,
   "id": "59c1c8e5-3962-4c37-8735-d351b2e77969",
   "metadata": {},
   "outputs": [
    {
     "data": {
      "text/plain": [
       "((4688, 11), (1989, 11))"
      ]
     },
     "execution_count": 20,
     "metadata": {},
     "output_type": "execute_result"
    }
   ],
   "source": [
    "df[df.is_picture].shape, df[df.is_video].shape"
   ]
  },
  {
   "cell_type": "code",
   "execution_count": 21,
   "id": "1f0f2ed2-ff53-4edf-aa44-d2f080d1b0ce",
   "metadata": {},
   "outputs": [
    {
     "data": {
      "text/plain": [
       "False    13152\n",
       "True      1989\n",
       "Name: is_video, dtype: int64"
      ]
     },
     "execution_count": 21,
     "metadata": {},
     "output_type": "execute_result"
    }
   ],
   "source": [
    "df.is_video.value_counts()"
   ]
  },
  {
   "cell_type": "code",
   "execution_count": 22,
   "id": "e87e6467-a2e3-4f80-a2ef-9159dc6524fb",
   "metadata": {},
   "outputs": [],
   "source": [
    "# df.engagement_rate.hist(by=df.is_video)"
   ]
  },
  {
   "cell_type": "code",
   "execution_count": 23,
   "id": "6ae49b6c-7f29-49fc-b571-8206c504194d",
   "metadata": {},
   "outputs": [],
   "source": [
    "# df[df.is_video].engagement_rate.plot.density(), df[~df.is_video].engagement_rate.plot.density()"
   ]
  },
  {
   "cell_type": "code",
   "execution_count": 24,
   "id": "6193c963-989b-43d2-bab2-b7987457704f",
   "metadata": {},
   "outputs": [],
   "source": [
    "# df.corr()"
   ]
  },
  {
   "cell_type": "code",
   "execution_count": 25,
   "id": "7470ad4f-bd3d-4713-a1a1-7a097e6c4ddd",
   "metadata": {},
   "outputs": [
    {
     "data": {
      "image/png": "[encoded data removed]",
      "text/plain": [
       "<Figure size 640x480 with 1 Axes>"
      ]
     },
     "metadata": {},
     "output_type": "display_data"
    }
   ],
   "source": [
    "no_pic = df[~df.is_picture & df.is_video].copy()\n",
    "no_vid = df[df.is_picture & ~df.is_video].copy()\n",
    "neither = df[~df.is_picture & ~df.is_video].copy()\n",
    "plt.boxplot([no_pic[\"engagement_rate\"], no_vid[\"engagement_rate\"], neither[\"engagement_rate\"]], labels=[\"no_pic\", \"no_vid\", \"neither\"])\n",
    "plt.show()"
   ]
  },
  {
   "cell_type": "code",
   "execution_count": 26,
   "id": "86605d8d-b951-4f2e-8081-74447da09177",
   "metadata": {},
   "outputs": [
    {
     "data": {
      "text/plain": [
       "5"
      ]
     },
     "execution_count": 26,
     "metadata": {},
     "output_type": "execute_result"
    }
   ],
   "source": []
  },
  {
   "cell_type": "code",
   "execution_count": null,
   "id": "f4047520-53cb-4897-8059-440e9b65cbb7",
   "metadata": {},
   "outputs": [],
   "source": []
  },
  {
   "cell_type": "code",
   "execution_count": null,
   "id": "d98ff334-7970-44d7-8bb6-b0165259d535",
   "metadata": {},
   "outputs": [],
   "source": []
  },
  {
   "cell_type": "code",
   "execution_count": null,
   "id": "c50961d8-bd60-442f-82c0-45e26dda9da9",
   "metadata": {},
   "outputs": [],
   "source": []
  },
  {
   "cell_type": "markdown",
   "id": "4edf86db-9622-4011-8b41-b7288b067e1e",
   "metadata": {},
   "source": [
    "# Checking if normal"
   ]
  },
  {
   "cell_type": "code",
   "execution_count": 28,
   "id": "db249ebf-7f20-47e3-b619-9df8b0cd620a",
   "metadata": {},
   "outputs": [
    {
     "data": {
      "image/png": "[encoded data removed]",
      "text/plain": [
       "<Figure size 640x480 with 1 Axes>"
      ]
     },
     "metadata": {},
     "output_type": "display_data"
    }
   ],
   "source": [
    "no_pic[\"engagement_rate\"].plot(kind=\"density\")\n",
    "no_vid[\"engagement_rate\"].plot(kind=\"density\")\n",
    "neither[\"engagement_rate\"].plot(kind=\"density\")\n",
    "plt.show()"
   ]
  },
  {
   "cell_type": "code",
   "execution_count": 41,
   "id": "27cdf890-045a-4c02-82c2-07db11ff9814",
   "metadata": {},
   "outputs": [],
   "source": [
    "# sm.qqplot(no_pic[\"engagement_rate\"])\n",
    "# sm.qqplot(no_vid[\"engagement_rate\"])\n",
    "# sm.qqplot(neither[\"engagement_rate\"])"
   ]
  },
  {
   "cell_type": "code",
   "execution_count": 42,
   "id": "16ce65f9-527d-430d-af3c-230e7ecdc8c8",
   "metadata": {},
   "outputs": [
    {
     "data": {
      "text/plain": [
       "((1989, 11), (4688, 11), (8464, 11))"
      ]
     },
     "execution_count": 42,
     "metadata": {},
     "output_type": "execute_result"
    }
   ],
   "source": [
    "no_pic.shape, no_vid.shape, neither.shape"
   ]
  },
  {
   "cell_type": "code",
   "execution_count": 45,
   "id": "39d0d7a9-33cf-4981-9c5d-b7f072c23a49",
   "metadata": {},
   "outputs": [
    {
     "data": {
      "text/plain": [
       "(1.5901347379456925e-05, 1.997595619301904e-05, 2.949481824952034e-06)"
      ]
     },
     "execution_count": 45,
     "metadata": {},
     "output_type": "execute_result"
    }
   ],
   "source": [
    "no_pic[\"engagement_rate\"].var(), no_vid[\"engagement_rate\"].var(), neither[\"engagement_rate\"].var()"
   ]
  },
  {
   "cell_type": "code",
   "execution_count": 47,
   "id": "3e2901fc-8024-4e1e-b30a-271bca8ab70a",
   "metadata": {},
   "outputs": [],
   "source": [
    "from scipy.stats import levene"
   ]
  },
  {
   "cell_type": "code",
   "execution_count": 48,
   "id": "796ce45e-4756-49c2-939f-8859a3f69b20",
   "metadata": {},
   "outputs": [],
   "source": [
    "_, p = levene(no_pic[\"engagement_rate\"], no_vid[\"engagement_rate\"], neither[\"engagement_rate\"])"
   ]
  },
  {
   "cell_type": "code",
   "execution_count": 50,
   "id": "70a1a45c-d0e4-4d81-8ec3-a8e11753e36a",
   "metadata": {},
   "outputs": [
    {
     "data": {
      "text/plain": [
       "3.463621340078473e-67"
      ]
     },
     "execution_count": 50,
     "metadata": {},
     "output_type": "execute_result"
    }
   ],
   "source": [
    "p # variances are sufficiently different such that anova on these is not possible. this could be seen 2 lines above but levene also proves this"
   ]
  },
  {
   "cell_type": "code",
   "execution_count": 51,
   "id": "b79817c7-0e45-4bee-80ff-98f104f99a71",
   "metadata": {},
   "outputs": [
    {
     "data": {
      "text/plain": [
       "(0.0018259087184514832, 0.0014344954417662118, 0.0005508373804347826)"
      ]
     },
     "execution_count": 51,
     "metadata": {},
     "output_type": "execute_result"
    }
   ],
   "source": [
    "no_pic[\"engagement_rate\"].mean(), no_vid[\"engagement_rate\"].mean(), neither[\"engagement_rate\"].mean()"
   ]
  },
  {
   "cell_type": "code",
   "execution_count": 52,
   "id": "a0527f9f-5515-46fd-b8aa-7fd0b7416df8",
   "metadata": {},
   "outputs": [
    {
     "data": {
      "text/html": [
       "<div>\n",
       "<style scoped>\n",
       "    .dataframe tbody tr th:only-of-type {\n",
       "        vertical-align: middle;\n",
       "    }\n",
       "\n",
       "    .dataframe tbody tr th {\n",
       "        vertical-align: top;\n",
       "    }\n",
       "\n",
       "    .dataframe thead th {\n",
       "        text-align: right;\n",
       "    }\n",
       "</style>\n",
       "<table border=\"1\" class=\"dataframe\">\n",
       "  <thead>\n",
       "    <tr style=\"text-align: right;\">\n",
       "      <th></th>\n",
       "      <th>post_date</th>\n",
       "      <th>entity_id</th>\n",
       "      <th>followers</th>\n",
       "      <th>is_picture</th>\n",
       "      <th>is_video</th>\n",
       "      <th>video_duration_secs</th>\n",
       "      <th>impressions</th>\n",
       "      <th>likes</th>\n",
       "      <th>shares</th>\n",
       "      <th>replies</th>\n",
       "      <th>engagement_rate</th>\n",
       "    </tr>\n",
       "  </thead>\n",
       "  <tbody>\n",
       "    <tr>\n",
       "      <th>13</th>\n",
       "      <td>2020-09-10 22:56:00</td>\n",
       "      <td>734CC11FE5EC4290A623F16482B387FF</td>\n",
       "      <td>4817853.0</td>\n",
       "      <td>False</td>\n",
       "      <td>True</td>\n",
       "      <td>22.584</td>\n",
       "      <td>652087.09970</td>\n",
       "      <td>2836</td>\n",
       "      <td>136</td>\n",
       "      <td>0</td>\n",
       "      <td>0.000617</td>\n",
       "    </tr>\n",
       "    <tr>\n",
       "      <th>19</th>\n",
       "      <td>2020-08-10 15:02:00</td>\n",
       "      <td>4A3372EBDC9C484AA8503A96CD14B858</td>\n",
       "      <td>963831.0</td>\n",
       "      <td>False</td>\n",
       "      <td>True</td>\n",
       "      <td>20.117</td>\n",
       "      <td>108949.36340</td>\n",
       "      <td>118</td>\n",
       "      <td>5</td>\n",
       "      <td>7</td>\n",
       "      <td>0.000135</td>\n",
       "    </tr>\n",
       "    <tr>\n",
       "      <th>33</th>\n",
       "      <td>2020-09-05 00:01:00</td>\n",
       "      <td>4A3372EBDC9C484AA8503A96CD14B858</td>\n",
       "      <td>983701.0</td>\n",
       "      <td>False</td>\n",
       "      <td>True</td>\n",
       "      <td>9.233</td>\n",
       "      <td>397672.10280</td>\n",
       "      <td>4668</td>\n",
       "      <td>401</td>\n",
       "      <td>0</td>\n",
       "      <td>0.005153</td>\n",
       "    </tr>\n",
       "    <tr>\n",
       "      <th>40</th>\n",
       "      <td>2020-09-05 14:01:00</td>\n",
       "      <td>4A3372EBDC9C484AA8503A96CD14B858</td>\n",
       "      <td>983701.0</td>\n",
       "      <td>False</td>\n",
       "      <td>True</td>\n",
       "      <td>26.927</td>\n",
       "      <td>123381.56000</td>\n",
       "      <td>227</td>\n",
       "      <td>12</td>\n",
       "      <td>0</td>\n",
       "      <td>0.000243</td>\n",
       "    </tr>\n",
       "    <tr>\n",
       "      <th>53</th>\n",
       "      <td>2020-01-02 21:01:00</td>\n",
       "      <td>7AD030340F434EECA5B4FC28034E1113</td>\n",
       "      <td>242458.0</td>\n",
       "      <td>False</td>\n",
       "      <td>True</td>\n",
       "      <td>80.914</td>\n",
       "      <td>48394.19151</td>\n",
       "      <td>138</td>\n",
       "      <td>15</td>\n",
       "      <td>0</td>\n",
       "      <td>0.000631</td>\n",
       "    </tr>\n",
       "  </tbody>\n",
       "</table>\n",
       "</div>"
      ],
      "text/plain": [
       "             post_date                         entity_id  followers  \\\n",
       "13 2020-09-10 22:56:00  734CC11FE5EC4290A623F16482B387FF  4817853.0   \n",
       "19 2020-08-10 15:02:00  4A3372EBDC9C484AA8503A96CD14B858   963831.0   \n",
       "33 2020-09-05 00:01:00  4A3372EBDC9C484AA8503A96CD14B858   983701.0   \n",
       "40 2020-09-05 14:01:00  4A3372EBDC9C484AA8503A96CD14B858   983701.0   \n",
       "53 2020-01-02 21:01:00  7AD030340F434EECA5B4FC28034E1113   242458.0   \n",
       "\n",
       "    is_picture  is_video  video_duration_secs   impressions  likes  shares  \\\n",
       "13       False      True               22.584  652087.09970   2836     136   \n",
       "19       False      True               20.117  108949.36340    118       5   \n",
       "33       False      True                9.233  397672.10280   4668     401   \n",
       "40       False      True               26.927  123381.56000    227      12   \n",
       "53       False      True               80.914   48394.19151    138      15   \n",
       "\n",
       "    replies  engagement_rate  \n",
       "13        0         0.000617  \n",
       "19        7         0.000135  \n",
       "33        0         0.005153  \n",
       "40        0         0.000243  \n",
       "53        0         0.000631  "
      ]
     },
     "execution_count": 52,
     "metadata": {},
     "output_type": "execute_result"
    }
   ],
   "source": [
    "no_pic.head()"
   ]
  },
  {
   "cell_type": "code",
   "execution_count": 55,
   "id": "6b0ffd8c-a898-4242-89d6-6c22706ab75d",
   "metadata": {},
   "outputs": [
    {
     "data": {
      "image/png": "[encoded data removed]",
      "text/plain": [
       "<Figure size 640x480 with 1 Axes>"
      ]
     },
     "metadata": {},
     "output_type": "display_data"
    }
   ],
   "source": [
    "no_pic.sort_values(by=\"video_duration_secs\").plot(\"video_duration_secs\", \"engagement_rate\")\n",
    "plt.show()"
   ]
  },
  {
   "cell_type": "code",
   "execution_count": 56,
   "id": "01c44997-b781-4ba3-85bb-baf11bcb7ab4",
   "metadata": {},
   "outputs": [
    {
     "data": {
      "text/html": [
       "<div>\n",
       "<style scoped>\n",
       "    .dataframe tbody tr th:only-of-type {\n",
       "        vertical-align: middle;\n",
       "    }\n",
       "\n",
       "    .dataframe tbody tr th {\n",
       "        vertical-align: top;\n",
       "    }\n",
       "\n",
       "    .dataframe thead th {\n",
       "        text-align: right;\n",
       "    }\n",
       "</style>\n",
       "<table border=\"1\" class=\"dataframe\">\n",
       "  <thead>\n",
       "    <tr style=\"text-align: right;\">\n",
       "      <th></th>\n",
       "      <th>followers</th>\n",
       "      <th>is_picture</th>\n",
       "      <th>is_video</th>\n",
       "      <th>video_duration_secs</th>\n",
       "      <th>impressions</th>\n",
       "      <th>likes</th>\n",
       "      <th>shares</th>\n",
       "      <th>replies</th>\n",
       "      <th>engagement_rate</th>\n",
       "    </tr>\n",
       "  </thead>\n",
       "  <tbody>\n",
       "    <tr>\n",
       "      <th>followers</th>\n",
       "      <td>1.000000</td>\n",
       "      <td>NaN</td>\n",
       "      <td>NaN</td>\n",
       "      <td>0.106794</td>\n",
       "      <td>0.759387</td>\n",
       "      <td>0.337022</td>\n",
       "      <td>0.236157</td>\n",
       "      <td>0.209083</td>\n",
       "      <td>-0.120304</td>\n",
       "    </tr>\n",
       "    <tr>\n",
       "      <th>is_picture</th>\n",
       "      <td>NaN</td>\n",
       "      <td>NaN</td>\n",
       "      <td>NaN</td>\n",
       "      <td>NaN</td>\n",
       "      <td>NaN</td>\n",
       "      <td>NaN</td>\n",
       "      <td>NaN</td>\n",
       "      <td>NaN</td>\n",
       "      <td>NaN</td>\n",
       "    </tr>\n",
       "    <tr>\n",
       "      <th>is_video</th>\n",
       "      <td>NaN</td>\n",
       "      <td>NaN</td>\n",
       "      <td>NaN</td>\n",
       "      <td>NaN</td>\n",
       "      <td>NaN</td>\n",
       "      <td>NaN</td>\n",
       "      <td>NaN</td>\n",
       "      <td>NaN</td>\n",
       "      <td>NaN</td>\n",
       "    </tr>\n",
       "    <tr>\n",
       "      <th>video_duration_secs</th>\n",
       "      <td>0.106794</td>\n",
       "      <td>NaN</td>\n",
       "      <td>NaN</td>\n",
       "      <td>1.000000</td>\n",
       "      <td>0.189965</td>\n",
       "      <td>0.190438</td>\n",
       "      <td>0.153070</td>\n",
       "      <td>0.070784</td>\n",
       "      <td>0.218934</td>\n",
       "    </tr>\n",
       "    <tr>\n",
       "      <th>impressions</th>\n",
       "      <td>0.759387</td>\n",
       "      <td>NaN</td>\n",
       "      <td>NaN</td>\n",
       "      <td>0.189965</td>\n",
       "      <td>1.000000</td>\n",
       "      <td>0.859052</td>\n",
       "      <td>0.743432</td>\n",
       "      <td>0.444805</td>\n",
       "      <td>0.437217</td>\n",
       "    </tr>\n",
       "    <tr>\n",
       "      <th>likes</th>\n",
       "      <td>0.337022</td>\n",
       "      <td>NaN</td>\n",
       "      <td>NaN</td>\n",
       "      <td>0.190438</td>\n",
       "      <td>0.859052</td>\n",
       "      <td>1.000000</td>\n",
       "      <td>0.857742</td>\n",
       "      <td>0.502612</td>\n",
       "      <td>0.723401</td>\n",
       "    </tr>\n",
       "    <tr>\n",
       "      <th>shares</th>\n",
       "      <td>0.236157</td>\n",
       "      <td>NaN</td>\n",
       "      <td>NaN</td>\n",
       "      <td>0.153070</td>\n",
       "      <td>0.743432</td>\n",
       "      <td>0.857742</td>\n",
       "      <td>1.000000</td>\n",
       "      <td>0.530307</td>\n",
       "      <td>0.608309</td>\n",
       "    </tr>\n",
       "    <tr>\n",
       "      <th>replies</th>\n",
       "      <td>0.209083</td>\n",
       "      <td>NaN</td>\n",
       "      <td>NaN</td>\n",
       "      <td>0.070784</td>\n",
       "      <td>0.444805</td>\n",
       "      <td>0.502612</td>\n",
       "      <td>0.530307</td>\n",
       "      <td>1.000000</td>\n",
       "      <td>0.293094</td>\n",
       "    </tr>\n",
       "    <tr>\n",
       "      <th>engagement_rate</th>\n",
       "      <td>-0.120304</td>\n",
       "      <td>NaN</td>\n",
       "      <td>NaN</td>\n",
       "      <td>0.218934</td>\n",
       "      <td>0.437217</td>\n",
       "      <td>0.723401</td>\n",
       "      <td>0.608309</td>\n",
       "      <td>0.293094</td>\n",
       "      <td>1.000000</td>\n",
       "    </tr>\n",
       "  </tbody>\n",
       "</table>\n",
       "</div>"
      ],
      "text/plain": [
       "                     followers  is_picture  is_video  video_duration_secs  \\\n",
       "followers             1.000000         NaN       NaN             0.106794   \n",
       "is_picture                 NaN         NaN       NaN                  NaN   \n",
       "is_video                   NaN         NaN       NaN                  NaN   \n",
       "video_duration_secs   0.106794         NaN       NaN             1.000000   \n",
       "impressions           0.759387         NaN       NaN             0.189965   \n",
       "likes                 0.337022         NaN       NaN             0.190438   \n",
       "shares                0.236157         NaN       NaN             0.153070   \n",
       "replies               0.209083         NaN       NaN             0.070784   \n",
       "engagement_rate      -0.120304         NaN       NaN             0.218934   \n",
       "\n",
       "                     impressions     likes    shares   replies  \\\n",
       "followers               0.759387  0.337022  0.236157  0.209083   \n",
       "is_picture                   NaN       NaN       NaN       NaN   \n",
       "is_video                     NaN       NaN       NaN       NaN   \n",
       "video_duration_secs     0.189965  0.190438  0.153070  0.070784   \n",
       "impressions             1.000000  0.859052  0.743432  0.444805   \n",
       "likes                   0.859052  1.000000  0.857742  0.502612   \n",
       "shares                  0.743432  0.857742  1.000000  0.530307   \n",
       "replies                 0.444805  0.502612  0.530307  1.000000   \n",
       "engagement_rate         0.437217  0.723401  0.608309  0.293094   \n",
       "\n",
       "                     engagement_rate  \n",
       "followers                  -0.120304  \n",
       "is_picture                       NaN  \n",
       "is_video                         NaN  \n",
       "video_duration_secs         0.218934  \n",
       "impressions                 0.437217  \n",
       "likes                       0.723401  \n",
       "shares                      0.608309  \n",
       "replies                     0.293094  \n",
       "engagement_rate             1.000000  "
      ]
     },
     "execution_count": 56,
     "metadata": {},
     "output_type": "execute_result"
    }
   ],
   "source": [
    "no_pic.corr() # slight positive correlation"
   ]
  },
  {
   "cell_type": "code",
   "execution_count": 59,
   "id": "430d4051-b4fd-405c-832c-1b6b8e4c7b7d",
   "metadata": {},
   "outputs": [
    {
     "data": {
      "text/plain": [
       "count    1989.000000\n",
       "mean       46.753339\n",
       "std        77.592069\n",
       "min         1.867000\n",
       "25%        15.751000\n",
       "50%        26.650000\n",
       "75%        45.002000\n",
       "max       599.724000\n",
       "Name: video_duration_secs, dtype: float64"
      ]
     },
     "execution_count": 59,
     "metadata": {},
     "output_type": "execute_result"
    }
   ],
   "source": [
    "no_pic[\"video_duration_secs\"].describe()"
   ]
  },
  {
   "cell_type": "code",
   "execution_count": null,
   "id": "470dcc05-37d2-4698-9e28-164d1060fe53",
   "metadata": {},
   "outputs": [],
   "source": []
  },
  {
   "cell_type": "code",
   "execution_count": 63,
   "id": "48ea111a-ed9f-4991-8759-6066cbd511df",
   "metadata": {},
   "outputs": [],
   "source": [
    "bins = range(0, 610, 10)\n",
    "no_pic[\"bin\"] = no_pic[\"video_duration_secs\"].apply(binner)"
   ]
  },
  {
   "cell_type": "code",
   "execution_count": 62,
   "id": "a2cfa882-2f04-4e5b-8a56-43a664b42998",
   "metadata": {},
   "outputs": [],
   "source": [
    "def binner(x):\n",
    "    for group in bins:\n",
    "        if x < group:\n",
    "            return group"
   ]
  },
  {
   "cell_type": "code",
   "execution_count": 64,
   "id": "aa461889-2b3d-488e-a11c-ddea4c7e3f8f",
   "metadata": {},
   "outputs": [
    {
     "data": {
      "text/html": [
       "<div>\n",
       "<style scoped>\n",
       "    .dataframe tbody tr th:only-of-type {\n",
       "        vertical-align: middle;\n",
       "    }\n",
       "\n",
       "    .dataframe tbody tr th {\n",
       "        vertical-align: top;\n",
       "    }\n",
       "\n",
       "    .dataframe thead th {\n",
       "        text-align: right;\n",
       "    }\n",
       "</style>\n",
       "<table border=\"1\" class=\"dataframe\">\n",
       "  <thead>\n",
       "    <tr style=\"text-align: right;\">\n",
       "      <th></th>\n",
       "      <th>post_date</th>\n",
       "      <th>entity_id</th>\n",
       "      <th>followers</th>\n",
       "      <th>is_picture</th>\n",
       "      <th>is_video</th>\n",
       "      <th>video_duration_secs</th>\n",
       "      <th>impressions</th>\n",
       "      <th>likes</th>\n",
       "      <th>shares</th>\n",
       "      <th>replies</th>\n",
       "      <th>engagement_rate</th>\n",
       "      <th>bin</th>\n",
       "    </tr>\n",
       "  </thead>\n",
       "  <tbody>\n",
       "    <tr>\n",
       "      <th>13</th>\n",
       "      <td>2020-09-10 22:56:00</td>\n",
       "      <td>734CC11FE5EC4290A623F16482B387FF</td>\n",
       "      <td>4817853.0</td>\n",
       "      <td>False</td>\n",
       "      <td>True</td>\n",
       "      <td>22.584</td>\n",
       "      <td>652087.0997</td>\n",
       "      <td>2836</td>\n",
       "      <td>136</td>\n",
       "      <td>0</td>\n",
       "      <td>0.000617</td>\n",
       "      <td>30</td>\n",
       "    </tr>\n",
       "  </tbody>\n",
       "</table>\n",
       "</div>"
      ],
      "text/plain": [
       "             post_date                         entity_id  followers  \\\n",
       "13 2020-09-10 22:56:00  734CC11FE5EC4290A623F16482B387FF  4817853.0   \n",
       "\n",
       "    is_picture  is_video  video_duration_secs  impressions  likes  shares  \\\n",
       "13       False      True               22.584  652087.0997   2836     136   \n",
       "\n",
       "    replies  engagement_rate  bin  \n",
       "13        0         0.000617   30  "
      ]
     },
     "execution_count": 64,
     "metadata": {},
     "output_type": "execute_result"
    }
   ],
   "source": [
    "no_pic.head(1)"
   ]
  },
  {
   "cell_type": "code",
   "execution_count": 70,
   "id": "9d3dea2c-541a-4c1c-8d61-e23e54b8c16b",
   "metadata": {},
   "outputs": [
    {
     "data": {
      "image/png": "[encoded data removed]",
      "text/plain": [
       "<Figure size 640x480 with 1 Axes>"
      ]
     },
     "metadata": {},
     "output_type": "display_data"
    }
   ],
   "source": [
    "no_pic.groupby(\"bin\")[\"engagement_rate\"].mean().hist()\n",
    "plt.show()\n",
    "# i have a graph, this vidually shows there's a difference between duration lengths and engagement\n",
    "# test between groups"
   ]
  },
  {
   "cell_type": "code",
   "execution_count": 75,
   "id": "6e19197b-932f-4736-b179-f1f9a0b2ec3b",
   "metadata": {},
   "outputs": [
    {
     "data": {
      "text/html": [
       "<div>\n",
       "<style scoped>\n",
       "    .dataframe tbody tr th:only-of-type {\n",
       "        vertical-align: middle;\n",
       "    }\n",
       "\n",
       "    .dataframe tbody tr th {\n",
       "        vertical-align: top;\n",
       "    }\n",
       "\n",
       "    .dataframe thead th {\n",
       "        text-align: right;\n",
       "    }\n",
       "</style>\n",
       "<table border=\"1\" class=\"dataframe\">\n",
       "  <thead>\n",
       "    <tr style=\"text-align: right;\">\n",
       "      <th></th>\n",
       "      <th></th>\n",
       "      <th>followers</th>\n",
       "      <th>is_picture</th>\n",
       "      <th>is_video</th>\n",
       "      <th>video_duration_secs</th>\n",
       "      <th>impressions</th>\n",
       "      <th>likes</th>\n",
       "      <th>shares</th>\n",
       "      <th>replies</th>\n",
       "      <th>engagement_rate</th>\n",
       "    </tr>\n",
       "    <tr>\n",
       "      <th>bin</th>\n",
       "      <th></th>\n",
       "      <th></th>\n",
       "      <th></th>\n",
       "      <th></th>\n",
       "      <th></th>\n",
       "      <th></th>\n",
       "      <th></th>\n",
       "      <th></th>\n",
       "      <th></th>\n",
       "      <th></th>\n",
       "    </tr>\n",
       "  </thead>\n",
       "  <tbody>\n",
       "    <tr>\n",
       "      <th rowspan=\"5\" valign=\"top\">10</th>\n",
       "      <th>followers</th>\n",
       "      <td>1.000000</td>\n",
       "      <td>NaN</td>\n",
       "      <td>NaN</td>\n",
       "      <td>0.076154</td>\n",
       "      <td>0.812583</td>\n",
       "      <td>0.357004</td>\n",
       "      <td>0.082393</td>\n",
       "      <td>0.319587</td>\n",
       "      <td>-0.108443</td>\n",
       "    </tr>\n",
       "    <tr>\n",
       "      <th>is_picture</th>\n",
       "      <td>NaN</td>\n",
       "      <td>NaN</td>\n",
       "      <td>NaN</td>\n",
       "      <td>NaN</td>\n",
       "      <td>NaN</td>\n",
       "      <td>NaN</td>\n",
       "      <td>NaN</td>\n",
       "      <td>NaN</td>\n",
       "      <td>NaN</td>\n",
       "    </tr>\n",
       "    <tr>\n",
       "      <th>is_video</th>\n",
       "      <td>NaN</td>\n",
       "      <td>NaN</td>\n",
       "      <td>NaN</td>\n",
       "      <td>NaN</td>\n",
       "      <td>NaN</td>\n",
       "      <td>NaN</td>\n",
       "      <td>NaN</td>\n",
       "      <td>NaN</td>\n",
       "      <td>NaN</td>\n",
       "    </tr>\n",
       "    <tr>\n",
       "      <th>video_duration_secs</th>\n",
       "      <td>0.076154</td>\n",
       "      <td>NaN</td>\n",
       "      <td>NaN</td>\n",
       "      <td>1.000000</td>\n",
       "      <td>0.169219</td>\n",
       "      <td>0.212619</td>\n",
       "      <td>0.128507</td>\n",
       "      <td>0.190170</td>\n",
       "      <td>0.183153</td>\n",
       "    </tr>\n",
       "    <tr>\n",
       "      <th>impressions</th>\n",
       "      <td>0.812583</td>\n",
       "      <td>NaN</td>\n",
       "      <td>NaN</td>\n",
       "      <td>0.169219</td>\n",
       "      <td>1.000000</td>\n",
       "      <td>0.828216</td>\n",
       "      <td>0.608265</td>\n",
       "      <td>0.518134</td>\n",
       "      <td>0.439815</td>\n",
       "    </tr>\n",
       "    <tr>\n",
       "      <th>...</th>\n",
       "      <th>...</th>\n",
       "      <td>...</td>\n",
       "      <td>...</td>\n",
       "      <td>...</td>\n",
       "      <td>...</td>\n",
       "      <td>...</td>\n",
       "      <td>...</td>\n",
       "      <td>...</td>\n",
       "      <td>...</td>\n",
       "      <td>...</td>\n",
       "    </tr>\n",
       "    <tr>\n",
       "      <th rowspan=\"5\" valign=\"top\">600</th>\n",
       "      <th>impressions</th>\n",
       "      <td>0.504819</td>\n",
       "      <td>NaN</td>\n",
       "      <td>NaN</td>\n",
       "      <td>-0.006121</td>\n",
       "      <td>1.000000</td>\n",
       "      <td>0.277713</td>\n",
       "      <td>0.288896</td>\n",
       "      <td>0.517618</td>\n",
       "      <td>0.218120</td>\n",
       "    </tr>\n",
       "    <tr>\n",
       "      <th>likes</th>\n",
       "      <td>-0.677907</td>\n",
       "      <td>NaN</td>\n",
       "      <td>NaN</td>\n",
       "      <td>0.155893</td>\n",
       "      <td>0.277713</td>\n",
       "      <td>1.000000</td>\n",
       "      <td>0.868922</td>\n",
       "      <td>0.751330</td>\n",
       "      <td>0.988863</td>\n",
       "    </tr>\n",
       "    <tr>\n",
       "      <th>shares</th>\n",
       "      <td>-0.620703</td>\n",
       "      <td>NaN</td>\n",
       "      <td>NaN</td>\n",
       "      <td>0.126059</td>\n",
       "      <td>0.288896</td>\n",
       "      <td>0.868922</td>\n",
       "      <td>1.000000</td>\n",
       "      <td>0.745045</td>\n",
       "      <td>0.915389</td>\n",
       "    </tr>\n",
       "    <tr>\n",
       "      <th>replies</th>\n",
       "      <td>-0.292810</td>\n",
       "      <td>NaN</td>\n",
       "      <td>NaN</td>\n",
       "      <td>0.453134</td>\n",
       "      <td>0.517618</td>\n",
       "      <td>0.751330</td>\n",
       "      <td>0.745045</td>\n",
       "      <td>1.000000</td>\n",
       "      <td>0.750301</td>\n",
       "    </tr>\n",
       "    <tr>\n",
       "      <th>engagement_rate</th>\n",
       "      <td>-0.727474</td>\n",
       "      <td>NaN</td>\n",
       "      <td>NaN</td>\n",
       "      <td>0.174234</td>\n",
       "      <td>0.218120</td>\n",
       "      <td>0.988863</td>\n",
       "      <td>0.915389</td>\n",
       "      <td>0.750301</td>\n",
       "      <td>1.000000</td>\n",
       "    </tr>\n",
       "  </tbody>\n",
       "</table>\n",
       "<p>432 rows × 9 columns</p>\n",
       "</div>"
      ],
      "text/plain": [
       "                         followers  is_picture  is_video  video_duration_secs  \\\n",
       "bin                                                                             \n",
       "10  followers             1.000000         NaN       NaN             0.076154   \n",
       "    is_picture                 NaN         NaN       NaN                  NaN   \n",
       "    is_video                   NaN         NaN       NaN                  NaN   \n",
       "    video_duration_secs   0.076154         NaN       NaN             1.000000   \n",
       "    impressions           0.812583         NaN       NaN             0.169219   \n",
       "...                            ...         ...       ...                  ...   \n",
       "600 impressions           0.504819         NaN       NaN            -0.006121   \n",
       "    likes                -0.677907         NaN       NaN             0.155893   \n",
       "    shares               -0.620703         NaN       NaN             0.126059   \n",
       "    replies              -0.292810         NaN       NaN             0.453134   \n",
       "    engagement_rate      -0.727474         NaN       NaN             0.174234   \n",
       "\n",
       "                         impressions     likes    shares   replies  \\\n",
       "bin                                                                  \n",
       "10  followers               0.812583  0.357004  0.082393  0.319587   \n",
       "    is_picture                   NaN       NaN       NaN       NaN   \n",
       "    is_video                     NaN       NaN       NaN       NaN   \n",
       "    video_duration_secs     0.169219  0.212619  0.128507  0.190170   \n",
       "    impressions             1.000000  0.828216  0.608265  0.518134   \n",
       "...                              ...       ...       ...       ...   \n",
       "600 impressions             1.000000  0.277713  0.288896  0.517618   \n",
       "    likes                   0.277713  1.000000  0.868922  0.751330   \n",
       "    shares                  0.288896  0.868922  1.000000  0.745045   \n",
       "    replies                 0.517618  0.751330  0.745045  1.000000   \n",
       "    engagement_rate         0.218120  0.988863  0.915389  0.750301   \n",
       "\n",
       "                         engagement_rate  \n",
       "bin                                       \n",
       "10  followers                  -0.108443  \n",
       "    is_picture                       NaN  \n",
       "    is_video                         NaN  \n",
       "    video_duration_secs         0.183153  \n",
       "    impressions                 0.439815  \n",
       "...                                  ...  \n",
       "600 impressions                 0.218120  \n",
       "    likes                       0.988863  \n",
       "    shares                      0.915389  \n",
       "    replies                     0.750301  \n",
       "    engagement_rate             1.000000  \n",
       "\n",
       "[432 rows x 9 columns]"
      ]
     },
     "execution_count": 75,
     "metadata": {},
     "output_type": "execute_result"
    }
   ],
   "source": [
    "no_pic.groupby(\"bin\").corr()"
   ]
  },
  {
   "cell_type": "code",
   "execution_count": 76,
   "id": "618d1fae-a926-47e8-9620-7a047ae39e3c",
   "metadata": {},
   "outputs": [
    {
     "data": {
      "text/plain": [
       "bin\n",
       "10     6.801130e-06\n",
       "20     6.085147e-06\n",
       "30     4.243621e-06\n",
       "40     1.999523e-05\n",
       "50     1.093526e-05\n",
       "60     1.937669e-05\n",
       "70     1.890387e-05\n",
       "80     2.691869e-05\n",
       "90     1.223358e-05\n",
       "100    3.326822e-05\n",
       "110    8.940687e-05\n",
       "120    5.551404e-06\n",
       "130    2.123035e-05\n",
       "140    7.379995e-07\n",
       "150    1.279925e-04\n",
       "160    3.692303e-06\n",
       "170    2.091825e-06\n",
       "180    1.214506e-05\n",
       "190    4.426579e-06\n",
       "200    4.627813e-06\n",
       "210    3.887558e-06\n",
       "220    6.282745e-07\n",
       "230             NaN\n",
       "240             NaN\n",
       "270    4.593699e-06\n",
       "280    3.317019e-04\n",
       "290             NaN\n",
       "300    1.233578e-05\n",
       "310             NaN\n",
       "320    5.603466e-04\n",
       "330    1.557083e-10\n",
       "360    1.431088e-05\n",
       "380    1.716873e-05\n",
       "400             NaN\n",
       "420             NaN\n",
       "430    9.279211e-07\n",
       "450             NaN\n",
       "460             NaN\n",
       "470             NaN\n",
       "480             NaN\n",
       "510             NaN\n",
       "520             NaN\n",
       "530             NaN\n",
       "540             NaN\n",
       "560             NaN\n",
       "580    1.992591e-07\n",
       "590    1.423921e-05\n",
       "600    4.288768e-05\n",
       "Name: engagement_rate, dtype: float64"
      ]
     },
     "execution_count": 76,
     "metadata": {},
     "output_type": "execute_result"
    }
   ],
   "source": [
    "no_pic.groupby(\"bin\")[\"engagement_rate\"].var()"
   ]
  },
  {
   "cell_type": "code",
   "execution_count": null,
   "id": "1e57b597-85bf-4c3b-a139-2b6065320f7c",
   "metadata": {},
   "outputs": [],
   "source": []
  }
 ],
 "metadata": {
  "kernelspec": {
   "display_name": "Python 3 (ipykernel)",
   "language": "python",
   "name": "python3"
  },
  "language_info": {
   "codemirror_mode": {
    "name": "ipython",
    "version": 3
   },
   "file_extension": ".py",
   "mimetype": "text/x-python",
   "name": "python",
   "nbconvert_exporter": "python",
   "pygments_lexer": "ipython3",
   "version": "3.9.13"
  }
 },
 "nbformat": 4,
 "nbformat_minor": 5
}
